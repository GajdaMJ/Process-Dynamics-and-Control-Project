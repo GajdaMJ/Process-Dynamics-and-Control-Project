{
 "cells": [
  {
   "cell_type": "code",
   "execution_count": 33,
   "metadata": {},
   "outputs": [],
   "source": [
    "import numpy as np\n",
    "import matplotlib.pyplot as plt\n",
    "import scipy as sp\n",
    "from scipy.integrate import solve_ivp"
   ]
  },
  {
   "cell_type": "code",
   "execution_count": 46,
   "metadata": {},
   "outputs": [
    {
     "name": "stdout",
     "output_type": "stream",
     "text": [
      "Steady-state height is 15.041760315288816 mm\n"
     ]
    },
    {
     "data": {
      "image/png": "[encoded data removed]",
      "text/plain": [
       "<Figure size 432x288 with 1 Axes>"
      ]
     },
     "metadata": {
      "needs_background": "light"
     },
     "output_type": "display_data"
    }
   ],
   "source": [
    "# Data\n",
    "Qin = 8 * 10**(4)  # mm³/s\n",
    "fv = 0.3\n",
    "d_ifp = 25 # mm\n",
    "d_i = 140 # mm\n",
    "g = 9810  # mm/s²\n",
    "h_max = 630 # mm\n",
    "\n",
    "def h(t, h, Qin, fv, d_ifp, di, g, h_max):\n",
    "    if h <= h_max:\n",
    "        dhdt = (Qin - (1/4) * fv * np.pi * (d_ifp)**2 * np.sqrt(2 * g * h)) / ((1/4) * np.pi * d_i**2)\n",
    "    else: \n",
    "        dhdt = 0\n",
    "    return dhdt\n",
    "\n",
    "# Initial value\n",
    "h0 = [0]\n",
    "\n",
    "# Time span\n",
    "t = np.linspace(0, 30, 100)\n",
    "t_span = (t[0], t[-1])\n",
    "\n",
    "# Solve the differential equation\n",
    "sol = solve_ivp(h, t_span, h0, args=(Qin, fv, d_ifp, d_i, g, h_max), t_eval=t)\n",
    "\n",
    "if fv !=0:\n",
    "    h_steady_state = (8/g)*(Qin/(fv*np.pi*(d_ifp)**2))**2\n",
    "    print(f\"Steady-state height is {h_steady_state} mm\")\n",
    "else:\n",
    "    print(f\"No steady-state\")\n",
    "\n",
    "# Plot results\n",
    "plt.plot(sol.t, sol.y[0], label=\"h(t)\")\n",
    "plt.xlabel(\"Time (s)\")\n",
    "plt.ylabel(\"h (mm)\")\n",
    "plt.grid()\n",
    "plt.legend()\n",
    "plt.show()"
   ]
  }
 ],
 "metadata": {
  "kernelspec": {
   "display_name": "base",
   "language": "python",
   "name": "python3"
  },
  "language_info": {
   "codemirror_mode": {
    "name": "ipython",
    "version": 3
   },
   "file_extension": ".py",
   "mimetype": "text/x-python",
   "name": "python",
   "nbconvert_exporter": "python",
   "pygments_lexer": "ipython3",
   "version": "3.8.8"
  }
 },
 "nbformat": 4,
 "nbformat_minor": 2
}
